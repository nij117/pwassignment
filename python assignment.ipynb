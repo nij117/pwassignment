{
 "cells": [
  {
   "cell_type": "markdown",
   "id": "16551dd2-49cb-4a20-bb71-ab58918fac53",
   "metadata": {},
   "source": [
    "Q1. Explain with an example each when to use a for loop and a while loop.\n",
    "\n",
    "Q2. Write a python program to print the sum and product of the first 10 natural numbers using for\n",
    "and while loop.\n",
    "\n",
    "Q3. Create a python program to compute the electricity bill for a household.\n",
    "\n",
    "Q4. Create a list of numbers from 1 to 100. Use for loop and while loop to calculate the cube of each\n",
    "number and if the cube of that number is divisible by 4 or 5 then append that number in a list and print\n",
    "that list.\n",
    "\n",
    "The per-unit charges in rupees are as follows: For the first 100 units, the user will be charged Rs. 4.5 per\n",
    "unit, for the next 100 units, the user will be charged Rs. 6 per unit, and for the next 100 units, the user will\n",
    "be charged Rs. 10 per unit, After 300 units and above the user will be charged Rs. 20 per unit.\n",
    "\n",
    "You are required to take the units of electricity consumed in a month from the user as input.\n",
    "Your program must pass this test case: when the unit of electricity consumed by the user in a month is\n",
    "310, the total electricity bill should be 2250.\n",
    "\n",
    "Q5. Write a program to filter count vowels in the below-given string.\n",
    "string = \"I want to become a data scientist\""
   ]
  },
  {
   "cell_type": "markdown",
   "id": "6a398732-0fbe-4a4d-b180-33a43476b5a5",
   "metadata": {},
   "source": [
    "# We use for loop when we know the no of iterations for when loop should be run but we use while loop to be run when their are certain conditions are met"
   ]
  },
  {
   "cell_type": "code",
   "execution_count": 1,
   "id": "d2b3c194-f51e-4df3-acc4-ea87dff7d776",
   "metadata": {},
   "outputs": [
    {
     "name": "stdout",
     "output_type": "stream",
     "text": [
      "1\n",
      "2\n",
      "3\n",
      "4\n",
      "5\n"
     ]
    }
   ],
   "source": [
    "# Iterating over elements in a list\n",
    "numbers = [1, 2, 3, 4, 5]\n",
    "for num in numbers:\n",
    "    print(num)"
   ]
  },
  {
   "cell_type": "code",
   "execution_count": 2,
   "id": "ba455ea6-9af5-47a8-a47c-663b30dcebb4",
   "metadata": {},
   "outputs": [
    {
     "name": "stdout",
     "output_type": "stream",
     "text": [
      "10\n",
      "9\n",
      "8\n",
      "7\n",
      "6\n",
      "5\n",
      "4\n",
      "3\n",
      "2\n",
      "1\n"
     ]
    }
   ],
   "source": [
    "# Counting down from 10 to 1\n",
    "count = 10\n",
    "while count > 0:\n",
    "    print(count)\n",
    "    count -= 1"
   ]
  },
  {
   "cell_type": "code",
   "execution_count": 3,
   "id": "ff8fb792-e189-450a-9f4c-8a3779dcde35",
   "metadata": {},
   "outputs": [
    {
     "name": "stdout",
     "output_type": "stream",
     "text": [
      "Using for loop:\n",
      "Sum of the first 10 natural numbers: 55\n",
      "Product of the first 10 natural numbers: 3628800\n",
      "\n",
      "Using while loop:\n",
      "Sum of the first 10 natural numbers: 55\n",
      "Product of the first 10 natural numbers: 3628800\n"
     ]
    }
   ],
   "source": [
    "# Using for loop\n",
    "sum_for = 0\n",
    "product_for = 1\n",
    "\n",
    "for num in range(1, 11):\n",
    "    sum_for += num\n",
    "    product_for *= num\n",
    "\n",
    "print(\"Using for loop:\")\n",
    "print(\"Sum of the first 10 natural numbers:\", sum_for)\n",
    "print(\"Product of the first 10 natural numbers:\", product_for)\n",
    "\n",
    "# Using while loop\n",
    "sum_while = 0\n",
    "product_while = 1\n",
    "counter = 1\n",
    "\n",
    "while counter <= 10:\n",
    "    sum_while += counter\n",
    "    product_while *= counter\n",
    "    counter += 1\n",
    "\n",
    "print(\"\\nUsing while loop:\")\n",
    "print(\"Sum of the first 10 natural numbers:\", sum_while)\n",
    "print(\"Product of the first 10 natural numbers:\", product_while)\n"
   ]
  },
  {
   "cell_type": "code",
   "execution_count": 5,
   "id": "ad060b76-2cc8-486d-ad94-94c251cee47c",
   "metadata": {},
   "outputs": [
    {
     "name": "stdin",
     "output_type": "stream",
     "text": [
      "Enter the units consumed:  58\n"
     ]
    },
    {
     "name": "stdout",
     "output_type": "stream",
     "text": [
      "Electricity Bill:  87.0\n"
     ]
    }
   ],
   "source": [
    "# Electricity bill calculation program\n",
    "def calculate_bill(units):\n",
    "    if units <= 100:\n",
    "        bill = units * 1.50\n",
    "    elif units <= 200:\n",
    "        bill = 100 * 1.50 + (units - 100) * 2.50\n",
    "    elif units <= 300:\n",
    "        bill = 100 * 1.50 + 100 * 2.50 + (units - 200) * 3.50\n",
    "    else:\n",
    "        bill = 100 * 1.50 + 100 * 2.50 + 100 * 3.50 + (units - 300) * 4.50\n",
    "    return bill\n",
    "\n",
    "# Input consumption in units\n",
    "units_consumed = int(input(\"Enter the units consumed: \"))\n",
    "\n",
    "# Calculate and display the bill\n",
    "total_bill = calculate_bill(units_consumed)\n",
    "print(\"Electricity Bill: \", total_bill)\n"
   ]
  },
  {
   "cell_type": "code",
   "execution_count": 6,
   "id": "70f549eb-ba66-4d75-9ee0-4eed3cbbae4d",
   "metadata": {},
   "outputs": [
    {
     "name": "stdout",
     "output_type": "stream",
     "text": [
      "Number of vowels in the string: 12\n"
     ]
    }
   ],
   "source": [
    "string = \"I want to become a data scientist\"\n",
    "\n",
    "# Function to count vowels\n",
    "def count_vowels(string):\n",
    "    vowels = \"aeiouAEIOU\"\n",
    "    vowel_count = 0\n",
    "\n",
    "    for char in string:\n",
    "        if char in vowels:\n",
    "            vowel_count += 1\n",
    "\n",
    "    return vowel_count\n",
    "\n",
    "# Filter and count vowels\n",
    "vowel_count = count_vowels(string)\n",
    "\n",
    "# Print the count of vowels\n",
    "print(\"Number of vowels in the string:\", vowel_count)\n"
   ]
  },
  {
   "cell_type": "code",
   "execution_count": 7,
   "id": "79c67cad-d72e-4253-b8e5-5662aee4da94",
   "metadata": {},
   "outputs": [
    {
     "name": "stdout",
     "output_type": "stream",
     "text": [
      "Using for loop: [2, 4, 5, 6, 8, 10, 12, 14, 15, 16, 18, 20, 22, 24, 25, 26, 28, 30, 32, 34, 35, 36, 38, 40, 42, 44, 45, 46, 48, 50, 52, 54, 55, 56, 58, 60, 62, 64, 65, 66, 68, 70, 72, 74, 75, 76, 78, 80, 82, 84, 85, 86, 88, 90, 92, 94, 95, 96, 98, 100]\n"
     ]
    }
   ],
   "source": [
    "# Using for loop to calculate cubes and filter numbers\n",
    "numbers = list(range(1, 101))\n",
    "cubes_divisible = []\n",
    "\n",
    "for num in numbers:\n",
    "    cube = num ** 3\n",
    "    if cube % 4 == 0 or cube % 5 == 0:\n",
    "        cubes_divisible.append(num)\n",
    "\n",
    "# Print the list of numbers whose cubes are divisible by 4 or 5\n",
    "print(\"Using for loop:\", cubes_divisible)\n"
   ]
  },
  {
   "cell_type": "code",
   "execution_count": 8,
   "id": "f19a5288-80c3-4940-b237-808696ed6328",
   "metadata": {},
   "outputs": [
    {
     "name": "stdout",
     "output_type": "stream",
     "text": [
      "Using while loop: [2, 4, 5, 6, 8, 10, 12, 14, 15, 16, 18, 20, 22, 24, 25, 26, 28, 30, 32, 34, 35, 36, 38, 40, 42, 44, 45, 46, 48, 50, 52, 54, 55, 56, 58, 60, 62, 64, 65, 66, 68, 70, 72, 74, 75, 76, 78, 80, 82, 84, 85, 86, 88, 90, 92, 94, 95, 96, 98, 100]\n"
     ]
    }
   ],
   "source": [
    "# Using while loop to calculate cubes and filter numbers\n",
    "numbers = list(range(1, 101))\n",
    "cubes_divisible = []\n",
    "index = 0\n",
    "\n",
    "while index < len(numbers):\n",
    "    cube = numbers[index] ** 3\n",
    "    if cube % 4 == 0 or cube % 5 == 0:\n",
    "        cubes_divisible.append(numbers[index])\n",
    "    index += 1\n",
    "\n",
    "# Print the list of numbers whose cubes are divisible by 4 or 5\n",
    "print(\"Using while loop:\", cubes_divisible)\n"
   ]
  },
  {
   "cell_type": "code",
   "execution_count": null,
   "id": "0c740c70-f7ef-413a-9543-ab2d460bb439",
   "metadata": {},
   "outputs": [],
   "source": []
  }
 ],
 "metadata": {
  "kernelspec": {
   "display_name": "Python 3 (ipykernel)",
   "language": "python",
   "name": "python3"
  },
  "language_info": {
   "codemirror_mode": {
    "name": "ipython",
    "version": 3
   },
   "file_extension": ".py",
   "mimetype": "text/x-python",
   "name": "python",
   "nbconvert_exporter": "python",
   "pygments_lexer": "ipython3",
   "version": "3.10.8"
  }
 },
 "nbformat": 4,
 "nbformat_minor": 5
}
